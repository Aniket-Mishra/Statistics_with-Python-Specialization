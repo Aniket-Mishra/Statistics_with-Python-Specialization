{
 "cells": [
  {
   "cell_type": "markdown",
   "metadata": {},
   "source": [
    "# Multivariate Categorical Data"
   ]
  },
  {
   "cell_type": "markdown",
   "metadata": {},
   "source": [
    "## Pitfall: Simpson's Paradox\n",
    "In this section, we’re going to introduce a Pitfall within Statistics: Simpson’s Paradox.\n",
    "\n",
    "What if I told you that the rate of completing Course 2 after you’ve completed Course 1 of a Specialization is higher for males than for females? What would you think?\n",
    "\n",
    "Now, what if I told you that more males are enrolled in a full Specialization, while more females are interested in taking each course as a freestanding course? Does that change how you think about the situation?\n",
    "\n",
    "What might actually be happening is that there are different rates of Course 2 completion for those in the Specialization versus those taking freestanding courses, and that the gender ratio may also be different for those two situations."
   ]
  },
  {
   "cell_type": "markdown",
   "metadata": {},
   "source": [
    "        Specialization\tCourse\t     Total\n",
    "Men\t    55/70 (79%)\t    10/20 (50%)\t 65/90 (72%)\n",
    "Women\t25/30 (83%)\t    17/30 (57%)\t 42/60 (70%)\n",
    "Total\t80/100 (80%)\t27/50 (54%)\t\n",
    "\n",
    "You may notice that the completion rate of Course 2 is higher for women within each of the methods of taking this course, but overall it appears that the completion rate of Course 2 is higher for men. The way of taking courses hides the true direction of the relationship between gender and completion rate of Course 2.\n",
    "\n",
    "The method of taking the course can be considered a confounding variable. A confounding variable is an outside influence that changes the relationship between the independent and the dependent variable. It oftentimes works by affecting the causal relationship between the primary independent variable and the dependent variable. This confounding variable confuses the relationship between two other variables; it may act by hiding, obscuring, or enhancing the existing relationship.\n",
    "\n",
    "For example, suppose that you are interested in examining how activity level affects weight change. Other factors, like diet, age, and gender may also affect weight change and come into play when looking at the relationship between activity level and weight change. If one doesn’t control for these factors, the relationship between activity level and weight change can be distorted.\n",
    "\n",
    "This also serves as a reminder that Correlation does not imply Causation. There may be other factors involved with a causal relationship. For this reason, you shouldn’t place too much stock in correlation alone.\n",
    "\n",
    "There are many other examples of Simpson’s Paradox, including [this article on the relationship between gender and Nobel prize awards](https://www.significancemagazine.com/science/294-the-nobel-prize-gender-gap?highlight=WyJwYXJhZG94Il0=). In the next discussion, you’ll have a chance to think about some examples of Simpson’s Paradox in your daily life."
   ]
  },
  {
   "cell_type": "markdown",
   "metadata": {},
   "source": [
    "Modern Ways to Visualize Data\n",
    "In this course, we have focused on visualizations like box plots, histograms, bar charts, pie charts, and scatterplots. But these are not the only ways to visualize data. As data becomes more complex and as people try to present data in more interesting and readable ways, new visualizations have emerged. Feel free to check out the links below for some cool examples.\n",
    "\n",
    "While viewing them, think through:\n",
    "\n",
    "* What about this visualization made it easy or hard to understand the data?\n",
    "* Why do you think this visualization was used instead of other visualizations we discussed in the course?\n",
    "* Could this visualization be used for other kinds of data?\n",
    "\n",
    "**Want to see how selfies are taken across the world?**  [Check out this website](http://selfiecity.net/selfiexploratory/) to see different categories of selfies in 5 different cities.**\n",
    "\n",
    "**Want to see how economic inequality has changed over time?** [Look at this article](https://ourworldindata.org/income-inequality) to see how a series of data visualizations are used to tell a story about the global economy.\n",
    "\n",
    "[**Check out this visualization**](https://www.washingtonpost.com/wp-srv/special/sports/wizards-shooting-stars/) of shot attempts of the Washington Wizards, an NBA team.\n",
    "\n",
    "**Want to see how music popularity has changed over time?** [Check out this cool visualization](https://music-timeline.appspot.com/#). You can click different genres for a further breakdown.\n",
    "\n",
    "**Want to know what ages certain people get married?** [Check out this interactive visualization](https://flowingdata.com/2016/03/03/marrying-age/) that allows you to understand the marriage age of different groups of people.\n",
    "\n",
    "**Want to know how different cities rank in terms of social, environmental and financial well being?** [Check out the visualization here](https://www.nationalgeographic.com/environment/urban-expeditions/green-buildings/sustainable-cities-graphic-urban-expeditions/) to see how different cities compare.\n",
    "\n",
    "**How many times did the song “Total Eclipse of the Heart” get streamed during the 2017 solar eclipse?** [Check out the visualization here](https://insights.spotify.com/tw/2017/08/24/data-viz-total-eclipse-of-the-heart-follows-the-eclipse/), which takes you through time: ***ERROR 404 on this one***\n",
    "\n"
   ]
  },
  {
   "cell_type": "markdown",
   "metadata": {},
   "source": [
    "## A Few Notes for Providing High Quality Peer Review\n",
    "1. Use respectful language whether you are suggesting improvements to or praising your peer.\n",
    "\n",
    "2. Look over your peer’s memo to quickly get an overview of the piece.\n",
    "\n",
    "3. Next, read the memo more slowly keeping the rubric in mind.\n",
    "\n",
    "4. As you re-read, note the pieces of texts that let you directly address the rubric prompts in your online responses.\n",
    "\n",
    "5. In your online responses, focus on larger issues (higher order concerns) of content and argument rather than lower order concerns like grammar and spelling.\n",
    "\n",
    "6. Be very specific in your responses, referring to your peer’s actual language, mentioning terms and concepts that are either present or missing, and following the directions in the rubric.\n",
    "\n",
    "7. Peer Review is important and helpful (to both the reviewer and receiver of the review), so be sure your online responses are detailed enough (minimum word count for each of the 4 criteria is 30 words).\n",
    "\n",
    "8. Peer Review is most helpful if received in a timely basis. Complete your thoughtful online feedback for all your assigned submissions ASAP so you can provide that feedback and thus earn your points for this helpful exercise.\n",
    "\n",
    "## Grading Criteria\n",
    "\n",
    "1. This memorandum should be written to be understandable to the company's CEO who has basic statistical literacy. Comment on whether this was achieved. What parts were written well? What parts would be more difficult to understand?\n",
    "\n",
    "2. The study design should be described in this memo. Comment on proposed research questions or claims that would be addressed. What is described well? What is missing? How might the description be improved?\n",
    "\n",
    "3. Comment on the proposed variables that would be recorded. What is described well? What is missing? How might the description be improved? Do they generally align well with the proposed research questions or claims? Is there enough detail so the company's CEO will generally understand what is proposed to be measured and how it would be measured?\n",
    "\n",
    "4. Comment on the proposed graphical and numerical summaries. What is described well? What is missing? How might the descriptions be improved? Do they generally align well with the proposed research questions or claims? Do they align with the type of data that is being recorded?"
   ]
  },
  {
   "cell_type": "markdown",
   "metadata": {},
   "source": [
    "# My review"
   ]
  },
  {
   "cell_type": "markdown",
   "metadata": {},
   "source": [
    "## Slice Device"
   ]
  },
  {
   "cell_type": "markdown",
   "metadata": {},
   "source": [
    "**House of Slices** is located in a recidential area near a market complex. So, we should target the general population is the area and all the people who come to shop in the complex. Being in a recidential area in the outskirts, families with kids will often shop for ingredients and other things from the market complex and targetting them will help promote  our pizzeria. There is no better advertisement method than a loyal and satisfied customer. So, we should start by seeing what our customers want and what our kitchen can provide. Then we can use that information to come up with a plan to beat our competition, **Evil Company**.\n",
    "\n",
    "Phase 1:\n",
    "We can take a survey from our kitchen to see if they are comfortable working in an open kitchen. \n",
    "The first question serves two important purposes: \n",
    "1. Since families will tend to visit the pizzeria with their kids, an open kitchen will be facinating to them and if we entertain them right, they will visit us again.\n",
    "2. It will increase the trust between the kitchen and the customers as they can come and see how their food is being prepared.\n",
    "We can hire someone to entertain those curious souls and further improve the customer experience.\n",
    "\n",
    "Phase 2:\n",
    "We can then survey customers on how they would like their pizza, if they would like a custom menu and if they need a place near their table to keep their groceries and other things so that they can enjoy their meal better. We can also check if customers want home delivery within the recidential area. Using the results from the survey, we can further enance our menu and provide better customer experience.\n",
    "The custom menu option will provide 3 things:\n",
    "1. it makes our pizzeria unique\n",
    "2. It will help us build a brand image.\n",
    "3. This allows customers to combine their preferred meats and vegetables for their pizza, letting them have fun while eating.\n",
    "However! we must first test what combinations go well with each other and take advice from the chef so that people don't end up combining something that will not taste good and would give us a bad name. It can be something like a sub, the customer can choose between the crust, the cheese and the toppings, combining some toppings. and so on.\n",
    "\n",
    "Phase 3:\n",
    "We can then check for patterns of what pizzas are sold most on what days and at what time, which sides are ordered most with what kind and size of pizza and see if we have any returning and regular customers. Using this informtion, we can create deals with discounts with pizzas and sides, special discounts for regular customers, like giving them a regular customer card that they can use to avail discounts on their orders and give them free home delivery and so on. \n",
    "\n",
    "Phase 4:\n",
    "We can finally begin our advertisement campaign with targetted brochures, emails, offers for people and discounts on larger groups and bigger orders. We can even provide custom menus for family events like birthday parties and so on."
   ]
  },
  {
   "cell_type": "markdown",
   "metadata": {},
   "source": [
    "House of Slices is located in the suburban area with a market complex. So, we should target the general population there and all the people who come to shop in the complex. Being in a residential area, families with kids will often visit the market complex and targeting them will help promote  our pizzeria. There is no better advertisement method than a loyal and satisfied customer. So, we should start by seeing what our customers want and what our kitchen can provide. Then we can use that information to come up with a plan to beat our competition, Pear-head Pizza.\n",
    "\n",
    "Phase 1:\n",
    "The first thing we need to do is set up our ingredients. We can use all organic ingredients to have an edge over other pizzerias and the quality of our ingredients will determine how our food will be perceived. Once we switch and set up our ingredients, we can take a survey from our kitchen staff to see if they are comfortable working in an open kitchen. This question serves two important purposes: \n",
    "Since families will tend to visit the pizzeria with their kids, an open kitchen will be fascinating to them and if we entertain them right, they will visit us again.\n",
    "It will increase the trust between the kitchen and the customers as they can come and see how their food is being prepared.\n",
    "We can hire someone to entertain those curious souls and further improve the customer experience.\n",
    "\n",
    "Phase 2:\n",
    "\n",
    "Once we are clear with our staff what we want to achieve, we can now focus on the customers. We can survey customers on how they would like their pizza, if they would like a customized menu and if they need facility to keep their groceries and other things so that they can enjoy their meal better. Since we are targeting families, we can add family friendly games on the table, like Jenga and Uno. We can also check if customers want their food to be delivered home within 5 miles. Using the results from the survey, we can further enhance our menu and provide better customer experience. Doing this will provide 3 things:\n",
    "It makes our pizzeria unique\n",
    "It will help us build a brand image.\n",
    "This allows customers to combine their preferred meats and vegetables for their pizza, letting them have fun while eating.\n",
    "The kids will not make too much trouble as they will either be looking at the live kitchen or playing one of those board games.\n",
    "However! we must first test what combinations go well with each other and take advice from the chef so that people don't end up combining something that will not taste good and would give us a bad name. It can be something like a sub, the customer can choose between the crust, the cheese and the toppings, combining some toppings. and so on.\n",
    "\n",
    "Phase 3:\n",
    "\n",
    "We can then check for patterns of what pizzas are sold most on what days and at what time, which sides are ordered most with what kind and size of pizza and see if we have any returning and regular customers. Using this information, we can create deals with discounts with pizzas and sides, special discounts for regular customers, like giving them a regular customer card that they can use to avail discounts on their orders and give them free home delivery and so on. \n",
    "\n",
    "Phase 4:\n",
    "\n",
    "We can finally begin our advertisement campaign with targeted brochures, emails, offers for people and discounts on larger groups and bigger orders. We can even provide customized menus for family events like birthday parties and so on. Our completely organic ingredient choice, the open kitchen, the family games and strategic offers will be our key selling points."
   ]
  },
  {
   "cell_type": "code",
   "execution_count": null,
   "metadata": {},
   "outputs": [],
   "source": []
  }
 ],
 "metadata": {
  "kernelspec": {
   "display_name": "Python 3",
   "language": "python",
   "name": "python3"
  },
  "language_info": {
   "codemirror_mode": {
    "name": "ipython",
    "version": 3
   },
   "file_extension": ".py",
   "mimetype": "text/x-python",
   "name": "python",
   "nbconvert_exporter": "python",
   "pygments_lexer": "ipython3",
   "version": "3.8.2"
  }
 },
 "nbformat": 4,
 "nbformat_minor": 4
}
