{
 "cells": [
  {
   "cell_type": "markdown",
   "metadata": {},
   "source": [
    "## Range = max - min"
   ]
  },
  {
   "cell_type": "markdown",
   "metadata": {},
   "source": [
    "Example of writing about something\n",
    "<br>\n",
    "Say a histogram of adult male heights.\n",
    "The distribution of adult male heights is roughly bell shaped with a center of about 68 inches, a range of 13 inches (62 ti 75), and no apparent outliers"
   ]
  },
  {
   "cell_type": "markdown",
   "metadata": {},
   "source": [
    "#### Bar charts are used for categorical data and histograms are used for quantitative data"
   ]
  },
  {
   "cell_type": "markdown",
   "metadata": {},
   "source": [
    "2 humps in data: bimodal\n",
    "<br>\n",
    "Long right tail = right skewed therefore the mean is towards the right of the median\n",
    "<br>\n",
    "Outliers are at the end of the skewed graph. The high end of it. Right skewed -> outliers at the right side"
   ]
  },
  {
   "cell_type": "markdown",
   "metadata": {},
   "source": [
    "The distribution of salaries in San Francisco is bimodal and skewed to the right, centered at about $80,000 with most of the data between $40,000 and $120,000, a range of roughly $600,000, and outliers are present on the higher end (more salary)."
   ]
  },
  {
   "cell_type": "markdown",
   "metadata": {},
   "source": [
    "In a histogram , talk of 4 main aspects\n",
    "<br>\n",
    "* Shape\n",
    "* Center\n",
    "* Spread\n",
    "* outlier\n",
    "It is a great starting point to decide what we might wanna do with our data"
   ]
  },
  {
   "cell_type": "markdown",
   "metadata": {},
   "source": [
    "# numerical summary\n",
    "\n",
    "IQR = Q3 - Q1 : Measure of spread. <br>\n",
    "Std Dev: Avg distance our datapoints fall from the mean. : Measure of spread.\n",
    "<br> Std dev: How far away points are from the mean\n",
    "<br> Roughly the average distance points are from the mean."
   ]
  },
  {
   "cell_type": "markdown",
   "metadata": {},
   "source": [
    "### Usually ask why certain values are like that. like if a salary is -600, it might be an input error."
   ]
  },
  {
   "cell_type": "markdown",
   "metadata": {},
   "source": [
    "### Standard score: Empirical Rule\n",
    "\n",
    "1. 68% of all data fall within 1 std dev from the mean\n",
    "2. 95% os all data fall within 2 std dev from the mean\n",
    "3. 99.7% of all data fall within 3 std dev from the mean"
   ]
  },
  {
   "cell_type": "markdown",
   "metadata": {},
   "source": [
    "### Standard score = Z-Score : Negaive: below mean, positive: Above the mean\n",
    "\n",
    "(value - mean)/std.dev <br>\n",
    "(obs - mean) by SD"
   ]
  },
  {
   "cell_type": "markdown",
   "metadata": {},
   "source": [
    "## Box Plots\n",
    "\n",
    "* Edge of the box: Q1 and Q3. \n",
    "* Length of the box: IQR\n",
    "* Line in the box: median\n",
    "* Min and max are drawn by extending lines out from the box: Whiskers"
   ]
  },
  {
   "cell_type": "markdown",
   "metadata": {},
   "source": [
    "##### Boxplots can hide gaps and clusters in data"
   ]
  },
  {
   "cell_type": "markdown",
   "metadata": {},
   "source": [
    "## How to look at graphs\n",
    "\n",
    "After looking closely at the interactive graph above, think about these three questions:\n",
    "\n",
    "• What do you notice?\n",
    "\n",
    "Share what you are noticing directly from the graph. What may this imply?\n",
    "\n",
    "• What do you wonder?\n",
    "\n",
    "What are you curious about that comes from what you notice in the graph?\n",
    "\n",
    "• What might be going on in this graph?\n",
    "\n",
    "If you make a claim, tell us what you noticed that supports that your claim is true.\n",
    "\n",
    "The questions are intended to build on one another, so try to answer them in order. Start with “I notice,” then “I wonder,” and end with “The story this graph is telling is ….”"
   ]
  },
  {
   "cell_type": "markdown",
   "metadata": {},
   "source": [
    "# Links:\n",
    "https://www.nytimes.com/column/whats-going-on-in-this-graph\n",
    "https://www.nytimes.com/interactive/2018/05/03/learning/08WGOITGraphLN.html\n",
    "https://www.nytimes.com/2017/10/09/learning/whats-going-on-in-this-graph-oct-10-2017.html\n",
    "https://www.nytimes.com/interactive/2018/02/08/learning/13WGOITGraphLN.html\n",
    "\n",
    "https://www.surveysystem.com/signif.htm\n",
    "https://www.dataquest.io/blog/data-science-glossary/"
   ]
  },
  {
   "cell_type": "markdown",
   "metadata": {},
   "source": [
    "## Modern Infographics\n",
    "The word infographic comes from a combination of the words “information” and “graphic”. While there are no clear definitions for infographics, generally, these figures should display information with varying levels complexity and sophistication to the viewer in a clear and concise way.\n",
    "\n",
    "This modern--or not so modern-- technique can take many shapes and forms. Infographics themselves are not a new concept; many basic forms of infographics were first introduced in the 1800s. In fact, many of the charts that you have seen and will see in this course are simple infographics, like pie charts, bar charts, histograms, and scatter plots. Objects such as weather and subway maps are standard ways of displaying and distributing large, complex amounts of information clearly and quickly to users. Well-designed weather maps, for example, are especially helpful in that consistent coloring allows for quick comprehension of information.\n",
    "One of the innovations to the infographic that increased its visibility is the development of the USA Snapshots by USA Today in 1982 to add images to simple graphs. The increased illustrations and colors added eye-appeal and extra interest in the information presented. The use of color images in newspapers are often limited to the front and back page of each newspaper, so these graphics were often seen by consumers of the newspaper.\n",
    "\n",
    "\n",
    "With the internet and the massive explosion of social networking sites, Pinterest, and blogs, along with new tools and programs for image editing, infographics have recently exploded in a different way. These infographics exist in almost every format imaginable, whether it be a timeline or an extended visualization of which Disney princess contains the best qualities or a ranking of fruit by tastiness and difficulty of eating. These infographics may be published by reputable sources, like Mott’s Children’s Hospital or generated by unofficial or untrustworthy sources.\n",
    "\n",
    "\n",
    "Due to their rise in number, quantity of authors, and questionable reputability, it is important to assess the quality and correctness of infographics. There are many ways in which infographics can lie or suggest stories that are contained within the data itself.\n",
    "\n",
    "Some quick tips for assessing how good the data in infographics are:\n",
    "\n",
    "* Look for the source of the information. Are there competing interests?\n",
    "* Check the scale of the data. Many pieces of information can be hidden or exaggerated based on how the scale is generated.\n",
    "* While visualizations can be cute, think about how all dimensions of a graph scale. For example, scaling up the height of an object by two will quadruple the two dimensional volume.\n",
    "\n",
    "So, keep an eye out for infographics in your daily life. During one hour, count how many you see to determine how prevalent they truly are. Assess their correctness based on the underlying data and practice good consumption of information through this format. If you are generating infographics yourself, remember that the clearer you present your information, the clearer and more persuasive your argument will be.\n",
    "\n",
    "For some of our favorite infographics, check out:\n",
    "\n",
    "[How common your birthday is in the US](http://thedailyviz.com/2016/09/17/how-common-is-your-birthday-dailyviz/) <br>\n",
    "[How parents think about organ donation](https://mottpoll.org/infographics/2091)\n",
    "<br>\n",
    "**And if you're interested in learning more, please review the following resources.**\n",
    "\n",
    "For general information about infographics, check out:\n",
    "\n",
    "* [Infographic history](https://www.smithsonianmag.com/history/surprising-history-infographic-180959563/)\n",
    "* [The work of Edward Tufte](https://www.edwardtufte.com/tufte/)\n",
    "* [How to Be an Educated Consumer on Infographics: David Byrne on the Art-science of Visual Storytelling](https://www.brainpickings.org/2013/10/08/best-american-infographics-david-byrne/)\n",
    "<br>\n",
    "For more general thoughts on infographics and assessing information, consider looking into:\n",
    "\n",
    "* [How to lie with Statistics.](https://www.amazon.com/How-Lie-Statistics-Darrell-Huff/dp/0393310728)\n",
    "* [Storytelling with Data](http://www.storytellingwithdata.com/)"
   ]
  },
  {
   "cell_type": "markdown",
   "metadata": {},
   "source": []
  },
  {
   "cell_type": "markdown",
   "metadata": {},
   "source": []
  },
  {
   "cell_type": "markdown",
   "metadata": {},
   "source": []
  }
 ],
 "metadata": {
  "kernelspec": {
   "display_name": "Python 3",
   "language": "python",
   "name": "python3"
  },
  "language_info": {
   "codemirror_mode": {
    "name": "ipython",
    "version": 3
   },
   "file_extension": ".py",
   "mimetype": "text/x-python",
   "name": "python",
   "nbconvert_exporter": "python",
   "pygments_lexer": "ipython3",
   "version": "3.8.2"
  }
 },
 "nbformat": 4,
 "nbformat_minor": 4
}
