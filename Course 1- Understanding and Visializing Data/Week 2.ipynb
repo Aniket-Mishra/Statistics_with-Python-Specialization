{
 "cells": [
  {
   "cell_type": "markdown",
   "metadata": {},
   "source": [
    "## Range = max - min"
   ]
  },
  {
   "cell_type": "markdown",
   "metadata": {},
   "source": [
    "Example of writing about something\n",
    "<br>\n",
    "Say a histogram of adult male heights.\n",
    "The distribution of adult male heights is roughly bell shaped with a center of about 68 inches, a range of 13 inches (62 ti 75), and no apparent outliers"
   ]
  },
  {
   "cell_type": "markdown",
   "metadata": {},
   "source": [
    "#### Bar charts are used for categorical data and histograms are used for quantitative data"
   ]
  },
  {
   "cell_type": "markdown",
   "metadata": {},
   "source": [
    "2 humps in data: bimodal\n",
    "<br>\n",
    "Long right tail = right skewed therefore the mean is towards the right of the median\n",
    "<br>\n",
    "Outliers are at the end of the skewed graph. The high end of it. Right skewed -> outliers at the right side"
   ]
  },
  {
   "cell_type": "markdown",
   "metadata": {},
   "source": [
    "The distribution of salaries in San Francisco is bimodal and skewed to the right, centered at about $80,000 with most of the data between $40,000 and $120,000, a range of roughly $600,000, and outliers are present on the higher end (more salary)."
   ]
  },
  {
   "cell_type": "markdown",
   "metadata": {},
   "source": [
    "In a histogram , talk of 4 main aspects\n",
    "<br>\n",
    "* Shape\n",
    "* Center\n",
    "* Spread\n",
    "* outlier\n",
    "It is a great starting point to decide what we might wanna do with our data"
   ]
  },
  {
   "cell_type": "markdown",
   "metadata": {},
   "source": [
    "# numerical summary\n",
    "\n",
    "IQR = Q3 - Q1 : Measure of spread. <br>\n",
    "Std Dev: Avg distance our datapoints fall from the mean. : Measure of spread.\n",
    "<br> Std dev: How far away points are from the mean\n",
    "<br> Roughly the average distance points are from the mean."
   ]
  },
  {
   "cell_type": "markdown",
   "metadata": {},
   "source": [
    "### Usually ask why certain values are like that. like if a salary is -600, it might be an input error."
   ]
  },
  {
   "cell_type": "markdown",
   "metadata": {},
   "source": [
    "### Standard score: Empirical Rule\n",
    "\n",
    "1. 68% of all data fall within 1 std dev from the mean\n",
    "2. 95% os all data fall within 2 std dev from the mean\n",
    "3. 99.7% of all data fall within 3 std dev from the mean"
   ]
  },
  {
   "cell_type": "markdown",
   "metadata": {},
   "source": [
    "### Standard score = Z-Score : Negaive: below mean, positive: Above the mean\n",
    "\n",
    "(value - mean)/std.dev <br>\n",
    "(obs - mean) by SD"
   ]
  },
  {
   "cell_type": "markdown",
   "metadata": {},
   "source": [
    "## Box Plots\n",
    "\n",
    "* Edge of the box: Q1 and Q3. \n",
    "* Length of the box: IQR\n",
    "* Line in the box: median\n",
    "* Min and max are drawn by extending lines out from the box: Whiskers"
   ]
  },
  {
   "cell_type": "markdown",
   "metadata": {},
   "source": [
    "##### Boxplots can hide gaps and clusters in data"
   ]
  },
  {
   "cell_type": "markdown",
   "metadata": {},
   "source": []
  },
  {
   "cell_type": "markdown",
   "metadata": {},
   "source": []
  }
 ],
 "metadata": {
  "kernelspec": {
   "display_name": "Python 3",
   "language": "python",
   "name": "python3"
  },
  "language_info": {
   "codemirror_mode": {
    "name": "ipython",
    "version": 3
   },
   "file_extension": ".py",
   "mimetype": "text/x-python",
   "name": "python",
   "nbconvert_exporter": "python",
   "pygments_lexer": "ipython3",
   "version": "3.8.2"
  }
 },
 "nbformat": 4,
 "nbformat_minor": 4
}
