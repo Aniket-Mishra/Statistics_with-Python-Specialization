{
 "cells": [
  {
   "cell_type": "markdown",
   "metadata": {},
   "source": [
    "# Should we use survey weights when fitting models?\n",
    "\n",
    "**Survey Weights** <br>\n",
    "**Survey weights** may be available in data sets collected from **complex probability samples.** accounting for (at least) unequal probabilitues of selection into the sample for different cases. So, cases with a lower probability of being selected in a sample get higher weights\n",
    "                      "
   ]
  }
 ],
 "metadata": {
  "kernelspec": {
   "display_name": "Python 3",
   "language": "python",
   "name": "python3"
  },
  "language_info": {
   "codemirror_mode": {
    "name": "ipython",
    "version": 3
   },
   "file_extension": ".py",
   "mimetype": "text/x-python",
   "name": "python",
   "nbconvert_exporter": "python",
   "pygments_lexer": "ipython3",
   "version": "3.7.7"
  }
 },
 "nbformat": 4,
 "nbformat_minor": 4
}
