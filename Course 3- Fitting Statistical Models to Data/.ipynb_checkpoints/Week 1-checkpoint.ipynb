{
 "cells": [
  {
   "cell_type": "markdown",
   "metadata": {},
   "source": [
    "![introduction](img/introduction.png)"
   ]
  },
  {
   "cell_type": "markdown",
   "metadata": {},
   "source": [
    "# What is Fitting models to Data?\n",
    "\n",
    "**Goal:** How to fit **Statistical models** to **data** to help answer research questions.\n",
    "\n",
    "## We do NOT fit data to Models. We fit Models to data.\n",
    "* **Fit Models:** Specify models based on theory or subject knowledge and then fit those models to the data that we collected\n",
    "* **Data:** Variables follow distributions have certain relationships and the models that we fit to the data describe those distributions or relationships\n",
    "* Fit models -> Data\n",
    "\n",
    "## Why do we fit modedls to data?\n",
    "* **Estimate** distributional properties of variables, potentially conditional on other variables\n",
    "    * Estimate means of distributions, their variances and the quantiles of those distributional properties of variables\n",
    "* Concisely **Summerize relationships** between variables, and make inferentials statements about those relationships\n",
    "    * Relationship between a predictor and a dependent variable\n",
    "* **Predict** values of variables of interest conditional on the values of other predictior variables, and characterize the prediction uncertainty : to predict the outcomes on election, to predict the outcome of a sporting event or what's gonna happen with the weather or stock market -> focus is to predict the values of certain outcomes of interest\n",
    "\n",
    "### Focus \n",
    "* Focus on **parametric models ->** Estimating **parameters** that describe the distributions of variables\n",
    "* Given data, we suggest that a **variable of interest** follows a certain **probability model**\n",
    "    * e.g. we might assume that a continuous variable of interest like blood pressure, etc follows a normal distribution\n",
    "    * This is an example of a parametric model\n",
    "    * Estimate parameters that define that model, e.g mean in addition to the variance of that normally distributed variable\n",
    "        * These parameters define this model and we want to estimate their values in part to answer research questions\n",
    "    **Fitting a normal distribution to a given continuous variable is one way of fitting a model to the data we have collected** \n",
    "### Fitting models to data.\n",
    "We learnt in C2 how to estimate model parameters and sampling variance to **make inference about the parameters** by testing hypothesis or generating confidence intervals.\n",
    "* Example of specifying a probability model given a research question and estimating the parameters of that model\n",
    "* The idea of **Assessing model fit:** Does the model seem to fit the observed data well?\n",
    "\n",
    "### Example: Test Performance and Age\n",
    "* Variable of interest: Test performance in the range of [0,8]\n",
    "* Possible Predictor to answer our research question: Age that is standardized in respect to mean and the standard dev of age\n",
    "* We want to predict if age can predict the value of test performance\n",
    "* Furthermore we believe that age has a **curvilinear** relationship with performance\n",
    "    * it means Modorate values of age: Performance is best\n",
    "    * and for Smaller or larger avlues of Age: Performance tends to be worse\n",
    "    * We have a working theory that defines this curvilinear relationship and we want to collect data and fit a model to that data, estimate the parameters of that model and test this working theory\n",
    "    \n",
    "**Goals:**\n",
    "1. Estimate **marginal mean** of performance across all ages so we might have a descriptive objective\n",
    "    * just estimate the average test performance regardless of age\n",
    "2. estimate mean performance **conditional** on age\n"
   ]
  },
  {
   "cell_type": "markdown",
   "metadata": {},
   "source": [
    "Suppose that a researcher believes that a person’s income is a function of their age and years of education. The researcher collects measures of annual income, age, and years of education from a random sample of adults in a small community. The researcher wishes to fit a linear regression model that takes the following form: income = a + b × age + c × education + e, where the errors are assumed to follow a normal distribution with mean 0 and variance σ^2. Which of the following statements is true?\n",
    "\n",
    "\n",
    "The predictors of interest are a, b, c, and e.\n",
    "\n",
    "\n",
    "The predictors of interest are age, education, and σ^2.\n",
    "\n",
    "\n",
    "The parameters of interest are age and education.\n",
    "\n",
    "\n",
    "The parameters of interest are a, b, c, and σ^2.\n",
    "\n",
    "Correct \n",
    "Answer: the correct answer is d). In fitting this model, the researchers wishes to estimate the coefficients a, b, and c (which collectively with the predictors, age and years of education, define the conditional mean of income), and the variance of the errors, σ^2."
   ]
  },
  {
   "cell_type": "code",
   "execution_count": null,
   "metadata": {},
   "outputs": [],
   "source": []
  }
 ],
 "metadata": {
  "kernelspec": {
   "display_name": "Python 3",
   "language": "python",
   "name": "python3"
  },
  "language_info": {
   "codemirror_mode": {
    "name": "ipython",
    "version": 3
   },
   "file_extension": ".py",
   "mimetype": "text/x-python",
   "name": "python",
   "nbconvert_exporter": "python",
   "pygments_lexer": "ipython3",
   "version": "3.7.7"
  }
 },
 "nbformat": 4,
 "nbformat_minor": 4
}
