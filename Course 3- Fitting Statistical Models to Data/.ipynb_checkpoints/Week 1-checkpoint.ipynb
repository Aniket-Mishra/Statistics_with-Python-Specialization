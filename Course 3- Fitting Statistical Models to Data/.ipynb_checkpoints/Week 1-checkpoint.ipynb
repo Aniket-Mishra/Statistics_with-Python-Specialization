{
 "cells": [
  {
   "cell_type": "markdown",
   "metadata": {},
   "source": [
    "![introduction](img/introduction.png)"
   ]
  },
  {
   "cell_type": "markdown",
   "metadata": {},
   "source": [
    "# What is Fitting models to Data?\n",
    "\n",
    "**Goal:** How to fit **Statistical models** to **data** to help answer research questions.\n",
    "\n",
    "## We do NOT fit data to Models. We fit Models to data.\n",
    "* **Fit Models:** Specify models based on theory or subject knowledge and then fit those models to the data that we collected\n",
    "* **Data:** Variables follow distributions have certain relationships and the models that we fit to the data describe those distributions\n",
    "* Fit models -> Data\n"
   ]
  },
  {
   "cell_type": "markdown",
   "metadata": {},
   "source": [
    "Suppose that a researcher believes that a person’s income is a function of their age and years of education. The researcher collects measures of annual income, age, and years of education from a random sample of adults in a small community. The researcher wishes to fit a linear regression model that takes the following form: income = a + b × age + c × education + e, where the errors are assumed to follow a normal distribution with mean 0 and variance σ^2. Which of the following statements is true?\n",
    "\n",
    "\n",
    "The predictors of interest are a, b, c, and e.\n",
    "\n",
    "\n",
    "The predictors of interest are age, education, and σ^2.\n",
    "\n",
    "\n",
    "The parameters of interest are age and education.\n",
    "\n",
    "\n",
    "The parameters of interest are a, b, c, and σ^2.\n",
    "\n",
    "Correct \n",
    "Answer: the correct answer is d). In fitting this model, the researchers wishes to estimate the coefficients a, b, and c (which collectively with the predictors, age and years of education, define the conditional mean of income), and the variance of the errors, σ^2."
   ]
  },
  {
   "cell_type": "code",
   "execution_count": null,
   "metadata": {},
   "outputs": [],
   "source": []
  }
 ],
 "metadata": {
  "kernelspec": {
   "display_name": "Python 3",
   "language": "python",
   "name": "python3"
  },
  "language_info": {
   "codemirror_mode": {
    "name": "ipython",
    "version": 3
   },
   "file_extension": ".py",
   "mimetype": "text/x-python",
   "name": "python",
   "nbconvert_exporter": "python",
   "pygments_lexer": "ipython3",
   "version": "3.7.7"
  }
 },
 "nbformat": 4,
 "nbformat_minor": 4
}
