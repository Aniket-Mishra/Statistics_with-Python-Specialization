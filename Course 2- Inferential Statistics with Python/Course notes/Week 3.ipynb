{
 "cells": [
  {
   "cell_type": "markdown",
   "metadata": {},
   "source": [
    "# Setting up a test for a population proportion\n",
    "\n",
    "## Hypothesis Testing\n",
    "**Why do we do Hypothesis tests?** <br>\n",
    "Could the value of the parameter be maru maru? <br>\n",
    "we have an idea of what it could be but we have no idea if it's correct or not. <br>\n",
    "with that question we try and collect data to support that claim or go against that claim. <br>\n",
    "\n",
    "## C.S. Mott Children't hospital\n",
    "## Research Question:\n",
    "In previous years, 52% of parents believed that electronics and social media was the cause of their teenager's lack of sleep. Do more parents today believe that their teenager's lack of sleep is caused due to electronics and social media?\n",
    "<br>\n",
    "Population: Parents with teenages aged 13-18 <br>\n",
    "Parameter of interest = p or the population proportion <br>\n",
    "**Test for a significance increase in the proportion of parents with a teenager who believe that electronics and social media is the cause for lack of sleep.** <br>\n",
    "### We set our hypothesis first, even before we collect our data so that we do not influence in what we believe.\n",
    "\n",
    "H0 : Null Hypothesis : p = 0.52 -> Lack of sleep is caused by electronics<br>\n",
    "Ha : Alternate hypothesis : p ? 0.52 (? in [>, <. !=]) <br>\n",
    "In our case here Ha : p > 0.52 as the statement above says check for a significance increase. <br>\n",
    "**p here is the population proportion of parents with a teenager who believe that electronics and social media is the cause of their teenager's lack of sleep** <br>\n",
    "alpha = 0.05 -> Significance level : When we find something to be significant when p is < 0.05 : cutoff point <br>\n",
    "After this we will collect the data.\n",
    "### Assumptions:\n",
    "1. Simple random sample of parents\n",
    "2. Large enough sample size\n",
    "\n",
    "<br><br>\n",
    "From the poll after collection data, we got: <br>\n",
    "**Best estimate of p is p^ = 0.56**\n",
    "\n",
    "### Test statistic:\n",
    "**(Best estimate - Hypothesized estimate) / Standard Error of estimate** <br>\n",
    "**(p^ - po) / s.e** <br>\n",
    "se(p^) = sqrt( (p . (1-p)) / n ) <br>\n",
    "since we do not know what p is, <br>\n",
    "**se(p^) = sqrt( (p . (1-p)) / n ) -> Null Standard Error**<br> \n",
    "<br>\n",
    "Finally, <br>\n",
    "**Z(test statistic) = (p^ - p0) / null se(p^)**\n",
    "<br><br>\n",
    "Z statistic means that our observed sample proportion is **(value of Z)** null standard errors above our hypothesized population."
   ]
  },
  {
   "cell_type": "markdown",
   "metadata": {},
   "source": []
  }
 ],
 "metadata": {
  "kernelspec": {
   "display_name": "Python 3",
   "language": "python",
   "name": "python3"
  },
  "language_info": {
   "codemirror_mode": {
    "name": "ipython",
    "version": 3
   },
   "file_extension": ".py",
   "mimetype": "text/x-python",
   "name": "python",
   "nbconvert_exporter": "python",
   "pygments_lexer": "ipython3",
   "version": "3.8.2"
  }
 },
 "nbformat": 4,
 "nbformat_minor": 4
}
