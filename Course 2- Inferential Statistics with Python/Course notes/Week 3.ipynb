{
 "cells": [
  {
   "cell_type": "markdown",
   "metadata": {},
   "source": [
    "# Setting up a test for a population proportion\n",
    "\n",
    "## Hypothesis Testing\n",
    "**Why do we do Hypothesis tests?**\n",
    "Could the value of the parameter be maru maru? <br>\n",
    "we have an idea of what it could be but we have no idea if it's correct or not. <br>\n",
    "with that question we try and collect data to support that claim or go against that claim. <br>\n",
    "\n",
    "## C.S. Mott Children't hospital\n",
    "## Research Question:\n",
    "In previous years, 52% of parents believed that electronics and social media was the cause of their teenager's lack of sleep. Do more parents today believe that their teenager's lack of sleep is caused due to electronics and social media?\n",
    "<br>\n",
    "Population: Parents with teenages aged 13-18"
   ]
  },
  {
   "cell_type": "code",
   "execution_count": null,
   "metadata": {},
   "outputs": [],
   "source": []
  }
 ],
 "metadata": {
  "kernelspec": {
   "display_name": "Python 3",
   "language": "python",
   "name": "python3"
  },
  "language_info": {
   "codemirror_mode": {
    "name": "ipython",
    "version": 3
   },
   "file_extension": ".py",
   "mimetype": "text/x-python",
   "name": "python",
   "nbconvert_exporter": "python",
   "pygments_lexer": "ipython3",
   "version": "3.8.2"
  }
 },
 "nbformat": 4,
 "nbformat_minor": 4
}
